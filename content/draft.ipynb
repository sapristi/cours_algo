{
 "cells": [
  {
   "cell_type": "markdown",
   "id": "a73d835b-91fe-49a1-8ffe-8c30bc1a2e14",
   "metadata": {},
   "source": [
    "Do whatever you want in there.\n",
    "\n",
    "Changes will be saved in the local storage of your browser."
   ]
  }
 ],
 "metadata": {
  "kernelspec": {
   "display_name": "Python 3 (ipykernel)",
   "language": "python",
   "name": "python3"
  },
  "language_info": {
   "codemirror_mode": {
    "name": "ipython",
    "version": 3
   },
   "file_extension": ".py",
   "mimetype": "text/x-python",
   "name": "python",
   "nbconvert_exporter": "python",
   "pygments_lexer": "ipython3",
   "version": "3.12.3"
  }
 },
 "nbformat": 4,
 "nbformat_minor": 5
}
