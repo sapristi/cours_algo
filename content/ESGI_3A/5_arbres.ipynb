{
 "cells": [
  {
   "cell_type": "code",
   "execution_count": 1,
   "id": "6bd18b65-a946-40e8-a6a5-bf81b88a1ba4",
   "metadata": {},
   "outputs": [],
   "source": [
    "try:\n",
    "    import micropip\n",
    "    await micropip.install(\"pydantic\")\n",
    "    await micropip.install(\"graphviz\")\n",
    "except Exception:\n",
    "    pass"
   ]
  },
  {
   "cell_type": "code",
   "execution_count": 2,
   "id": "6b62ee71-e42a-4d11-9d15-7dee49cbb485",
   "metadata": {},
   "outputs": [],
   "source": [
    "import pydantic\n",
    "from typing import Union\n",
    "\n",
    "class BaseModel(pydantic.BaseModel):\n",
    "    class Config:\n",
    "        extra=\"forbid\""
   ]
  },
  {
   "cell_type": "markdown",
   "id": "1462ab33-1495-49e6-bcd1-2088b05661eb",
   "metadata": {},
   "source": [
    "# Arbres binaires\n",
    "\n",
    "Un arbre binaire est un arbre dans lequel chaque nœud a au plus deux enfants. On les appellera \"left\" et \"right\" (i.e. enfaut \"gauche\" et enfant \"droit\")."
   ]
  },
  {
   "cell_type": "code",
   "execution_count": 3,
   "id": "8e3da330-5a8c-4fd1-a840-906ea41e6556",
   "metadata": {},
   "outputs": [],
   "source": [
    "class BTree(BaseModel):\n",
    "    left: Union[\"BTree\", None] = None\n",
    "    right: Union[\"BTree\", None] = None\n",
    "    value: str\n",
    "\n",
    "\n",
    "    def _repr_aux(self) -> tuple[int, list[str]]:\n",
    "        lines = []\n",
    "        if self.left:\n",
    "            left_root_index, lines_left = self.left._repr_aux()\n",
    "            for i, line in enumerate(lines_left):\n",
    "                if i < left_root_index:\n",
    "                    lines.append(\"   \" + line)\n",
    "                elif i == left_root_index:\n",
    "                    lines.append(\"╭─╴\" + line)\n",
    "                else:\n",
    "                    lines.append(\"│  \" + line)\n",
    "            \n",
    "        root_index = len(lines)\n",
    "        lines.append(self.value)\n",
    "        \n",
    "        if self.right:\n",
    "            right_root_index, lines_right = self.right._repr_aux()\n",
    "            for i, line in enumerate(lines_right):\n",
    "                if i < right_root_index:\n",
    "                    lines.append(\"│  \" + line)\n",
    "                elif i == right_root_index:\n",
    "                    lines.append(\"╰─╴\" + line)\n",
    "                else:\n",
    "                    lines.append(\"   \" + line)\n",
    "    \n",
    "        return root_index, lines\n",
    "\n",
    "    def __repr__(self):\n",
    "        root_index, lines = self._repr_aux()\n",
    "        lines_res = []\n",
    "        for i, line in enumerate(lines):\n",
    "            if i == root_index:\n",
    "                lines_res.append(\"──\" + line)\n",
    "            else:\n",
    "                lines_res.append(\"  \" + line)\n",
    "        return \"\\n\".join(lines_res)\n",
    "BTree.update_forward_refs()"
   ]
  },
  {
   "cell_type": "code",
   "execution_count": 49,
   "id": "6dec0577-5865-4782-91d1-6a18a1478afd",
   "metadata": {},
   "outputs": [
    {
     "data": {
      "text/plain": [
       "──abc"
      ]
     },
     "execution_count": 49,
     "metadata": {},
     "output_type": "execute_result"
    }
   ],
   "source": [
    "btree_1 = BTree(value=\"abc\")\n",
    "btree_1"
   ]
  },
  {
   "cell_type": "code",
   "execution_count": 50,
   "id": "ade86c4d-cd64-4cef-bdb0-3faa4c497833",
   "metadata": {},
   "outputs": [
    {
     "data": {
      "text/plain": [
       "  ╭─╴a\n",
       "──abc"
      ]
     },
     "execution_count": 50,
     "metadata": {},
     "output_type": "execute_result"
    }
   ],
   "source": [
    "btree_2 = BTree(left=BTree(value=\"a\"), value=\"abc\")\n",
    "btree_2"
   ]
  },
  {
   "cell_type": "code",
   "execution_count": 51,
   "id": "189d4399-374b-46b4-8913-8b80ed0b605f",
   "metadata": {},
   "outputs": [
    {
     "data": {
      "text/plain": [
       "  ╭─╴l\n",
       "──abc\n",
       "  │  ╭─╴rl\n",
       "  ╰─╴r"
      ]
     },
     "execution_count": 51,
     "metadata": {},
     "output_type": "execute_result"
    }
   ],
   "source": [
    "btree_3 = BTree(left=BTree(value=\"l\"), right=BTree(left=BTree(value=\"rl\"), value=\"r\"), value=\"abc\")\n",
    "btree_3"
   ]
  },
  {
   "cell_type": "markdown",
   "id": "b279a24d-2e7a-408a-912a-3838a0b54896",
   "metadata": {},
   "source": [
    "## Recherche dans un arbre"
   ]
  },
  {
   "cell_type": "code",
   "execution_count": 94,
   "id": "bef3149c-4856-495b-9b49-c6f8128c0c3e",
   "metadata": {},
   "outputs": [],
   "source": [
    "def search_btree(abr: BTree, value: str) ->  bool:\n",
    "    \"\"\"\n",
    "    Renvoie True si un nœud de l'arbre contient value, False sinon.    \"\"\"\n",
    "\n",
    "    if abr.value == value:\n",
    "        return True\n",
    "    if abr.left:\n",
    "        found_left = search_btree(abr.left, value)\n",
    "        if found_left:\n",
    "            return True\n",
    "    if abr.right:\n",
    "        found_right = search_btree(abr.right, value)\n",
    "        if found_right:\n",
    "            return True\n",
    "    print(f\"Nœud {abr.value}: pas trouvé {value}\")\n",
    "    return False"
   ]
  },
  {
   "cell_type": "code",
   "execution_count": 95,
   "id": "8c453b6b-4768-48a5-b4d5-ed0f24186005",
   "metadata": {},
   "outputs": [
    {
     "data": {
      "text/plain": [
       "True"
      ]
     },
     "execution_count": 95,
     "metadata": {},
     "output_type": "execute_result"
    }
   ],
   "source": [
    "search_btree(btree_1, \"abc\")"
   ]
  },
  {
   "cell_type": "code",
   "execution_count": 96,
   "id": "72573171-f3ae-4d6b-8a13-97c5823d7aa5",
   "metadata": {},
   "outputs": [
    {
     "name": "stdout",
     "output_type": "stream",
     "text": [
      "Nœud abc: pas trouvé cba\n"
     ]
    },
    {
     "data": {
      "text/plain": [
       "False"
      ]
     },
     "execution_count": 96,
     "metadata": {},
     "output_type": "execute_result"
    }
   ],
   "source": [
    "search_btree(btree_1, \"cba\")"
   ]
  },
  {
   "cell_type": "code",
   "execution_count": 97,
   "id": "75efb946-11cc-4d08-8443-2e115f394a56",
   "metadata": {},
   "outputs": [
    {
     "data": {
      "text/plain": [
       "True"
      ]
     },
     "execution_count": 97,
     "metadata": {},
     "output_type": "execute_result"
    }
   ],
   "source": [
    "search_btree(btree_2, \"a\")"
   ]
  },
  {
   "cell_type": "code",
   "execution_count": 98,
   "id": "9c317f05-b334-41c5-b619-4e1b853e2aeb",
   "metadata": {},
   "outputs": [
    {
     "name": "stdout",
     "output_type": "stream",
     "text": [
      "Nœud a: pas trouvé b\n",
      "Nœud abc: pas trouvé b\n"
     ]
    },
    {
     "data": {
      "text/plain": [
       "False"
      ]
     },
     "execution_count": 98,
     "metadata": {},
     "output_type": "execute_result"
    }
   ],
   "source": [
    "search_btree(btree_2, \"b\")"
   ]
  },
  {
   "cell_type": "code",
   "execution_count": 99,
   "id": "16e31381-7fec-4244-9e23-e47846b2ef65",
   "metadata": {},
   "outputs": [
    {
     "name": "stdout",
     "output_type": "stream",
     "text": [
      "Nœud l: pas trouvé rl\n"
     ]
    },
    {
     "data": {
      "text/plain": [
       "True"
      ]
     },
     "execution_count": 99,
     "metadata": {},
     "output_type": "execute_result"
    }
   ],
   "source": [
    "search_btree(btree_3, \"rl\")"
   ]
  },
  {
   "cell_type": "markdown",
   "id": "a45ac5d2-a562-40fe-9bf9-d6824dc78581",
   "metadata": {},
   "source": [
    "# Arbres binaires de recherche"
   ]
  },
  {
   "cell_type": "markdown",
   "id": "739528df-a652-4c82-80e3-3e30fa719bed",
   "metadata": {},
   "source": [
    "Un arbre binaire de recherche est un arbre binaire, qui a la propriété suivante: pour chaque nœud $n$, la valeur de tous les nœuds à gauche est plus petite que la valeur de $n$, et la valeur de tous les nœuds à droite est plus grande que la valeur de $n$."
   ]
  },
  {
   "cell_type": "markdown",
   "id": "e1d544e5-8501-401e-9f39-3d32e8cdf393",
   "metadata": {},
   "source": [
    "Les arbres binaires de recherche sont utilisés pour créer par exemple des indexes, ou des ensembles. Nous allons ici implémeter une classe `Set` (ensemblee en anglais)."
   ]
  },
  {
   "cell_type": "markdown",
   "id": "e47a4814-5a14-4495-bc4b-1b241aeab42b",
   "metadata": {},
   "source": [
    "## Exemples\n",
    "\n",
    "Parmi les arbres suivants, lesquels sont des arbres binaires de recherche ?"
   ]
  },
  {
   "cell_type": "code",
   "execution_count": 7,
   "id": "0f3619c7-60d7-48e0-94b4-33cd37256f96",
   "metadata": {},
   "outputs": [
    {
     "data": {
      "text/plain": [
       "  ╭─╴cca\n",
       "──ccc\n",
       "  ╰─╴ccd"
      ]
     },
     "execution_count": 7,
     "metadata": {},
     "output_type": "execute_result"
    }
   ],
   "source": [
    "ex1 = BTree(\n",
    "    left=BTree(value=\"cca\"), \n",
    "    value=\"ccc\", \n",
    "    right=BTree(value=\"ccd\")\n",
    ")\n",
    "ex1"
   ]
  },
  {
   "cell_type": "code",
   "execution_count": 8,
   "id": "66b14cfb-55b8-41d2-b09f-41c1a0c9aa04",
   "metadata": {},
   "outputs": [
    {
     "data": {
      "text/plain": [
       "  ╭─╴cda\n",
       "──ccc\n",
       "  ╰─╴ccd"
      ]
     },
     "execution_count": 8,
     "metadata": {},
     "output_type": "execute_result"
    }
   ],
   "source": [
    "ex2 = BTree(\n",
    "    left=BTree(value=\"cda\"), \n",
    "    value=\"ccc\", \n",
    "    right=BTree(value=\"ccd\")\n",
    ")\n",
    "ex2"
   ]
  },
  {
   "cell_type": "code",
   "execution_count": 9,
   "id": "0cbb306e-1224-4e44-b347-9884a8ee3451",
   "metadata": {},
   "outputs": [
    {
     "data": {
      "text/plain": [
       "     ╭─╴aaa\n",
       "  ╭─╴aca\n",
       "  │  ╰─╴acd\n",
       "  │     ╰─╴ace\n",
       "──cca\n",
       "  │  ╭─╴ccb\n",
       "  ╰─╴ccd"
      ]
     },
     "execution_count": 9,
     "metadata": {},
     "output_type": "execute_result"
    }
   ],
   "source": [
    "ex3 = BTree(\n",
    "    left=BTree(\n",
    "        left=BTree(\n",
    "            value=\"aaa\",\n",
    "        ),\n",
    "        value=\"aca\",\n",
    "        right=BTree(\n",
    "            value=\"acd\",\n",
    "            right=BTree(value=\"ace\")\n",
    "        )\n",
    "    ),\n",
    "    value=\"cca\", \n",
    "    right=BTree(\n",
    "        left=BTree(value=\"ccb\"),\n",
    "        value=\"ccd\"\n",
    "    )\n",
    ")\n",
    "ex3"
   ]
  },
  {
   "cell_type": "code",
   "execution_count": 10,
   "id": "473e7037-1118-4107-8be7-774fe393523c",
   "metadata": {},
   "outputs": [
    {
     "data": {
      "text/plain": [
       "     ╭─╴aaa\n",
       "  ╭─╴aca\n",
       "  │  ╰─╴acd\n",
       "  │     ╰─╴ace\n",
       "──cca\n",
       "  │  ╭─╴ccb\n",
       "  ╰─╴ccd\n",
       "     ╰─╴aab"
      ]
     },
     "execution_count": 10,
     "metadata": {},
     "output_type": "execute_result"
    }
   ],
   "source": [
    "ex4 = BTree(\n",
    "    left=BTree(\n",
    "        left=BTree(\n",
    "            value=\"aaa\",\n",
    "        ),\n",
    "        value=\"aca\",\n",
    "        right=BTree(\n",
    "            value=\"acd\",\n",
    "            right=BTree(value=\"ace\")\n",
    "        )\n",
    "    ),\n",
    "    value=\"cca\", \n",
    "    right=BTree(\n",
    "        left=BTree(value=\"ccb\"),\n",
    "        value=\"ccd\",\n",
    "        right=BTree(value=\"aab\")\n",
    "    )\n",
    ")\n",
    "ex4"
   ]
  },
  {
   "cell_type": "markdown",
   "id": "958113ca-97a9-48d2-90d4-f18299613067",
   "metadata": {},
   "source": [
    "## Teste de propriété\n",
    "\n",
    "On va implémenter la fonction `is_abr` qui permet de tester si un arbre est un abr"
   ]
  },
  {
   "cell_type": "code",
   "execution_count": 19,
   "id": "a8232da1-34ef-4025-acc5-bb4b22377c20",
   "metadata": {},
   "outputs": [],
   "source": [
    "def max_btree(btree: BTree) -> str:\n",
    "    \"\"\"retourne la plus grande valeur de l'arbre btree (qui n'est pas forcément un abr\"\"\"\n",
    "    res = btree.value\n",
    "    if btree.left:\n",
    "        max_left = max_btree(btree.left)\n",
    "        if max_left > res:\n",
    "            res = max_left\n",
    "    if btree.right:\n",
    "        max_right = max_btree(btree.right)\n",
    "        if max_right > res:\n",
    "            res = max_right\n",
    "    return res"
   ]
  },
  {
   "cell_type": "code",
   "execution_count": 20,
   "id": "9fb4aa7c-b14f-4c88-b045-f06194225323",
   "metadata": {},
   "outputs": [],
   "source": [
    "def min_btree(btree: BTree) -> str:\n",
    "    \"\"\"retourne la plus petite valeur de l'arbre btree (qui n'est pas forcément un abr\"\"\"\n",
    "    res = btree.value\n",
    "    if btree.left:\n",
    "        min_left = min_btree(btree.left)\n",
    "        if min_left < res:\n",
    "            res = min_left\n",
    "    if btree.right:\n",
    "        min_right = min_btree(btree.right)\n",
    "        if min_right < res:\n",
    "            res = min_right\n",
    "    return res"
   ]
  },
  {
   "cell_type": "code",
   "execution_count": 41,
   "id": "36f816d3-063f-41f1-a39e-b3ff0e66ed81",
   "metadata": {},
   "outputs": [],
   "source": [
    "def is_abr(abr: BTree) -> bool:\n",
    "    \"\"\"Retourne True si abr est un arbre binaire de recherche (False sinon).\n",
    "    \n",
    "    On devra vérifier: \n",
    "        - que le max de l'arbre à gauche est plus petit que la valeur du nœud\n",
    "        - que l'arbre à gauche est un abr\n",
    "        - que le min de l'arbre à droite est plus grand que la valeur du nœud\n",
    "        - que l'arbre à droite est un abr\n",
    "    \"\"\"\n",
    "    if abr.left:\n",
    "        max_left = max_btree(abr.left)\n",
    "        if max_left > abr.value:\n",
    "            print(f\"Max left {max_left}, value {abr.value}\")\n",
    "            return False\n",
    "        if not is_abr(abr.left):\n",
    "            print(f\"not abr ?\\n{abr.left}\")\n",
    "            return False\n",
    "    if abr.right:\n",
    "        min_right = min_btree(abr.right)\n",
    "        if min_right < abr.value:\n",
    "            print(f\"Min right {min_right}, value {abr.value}\")\n",
    "            return False\n",
    "        if not is_abr(abr.right):\n",
    "            print(f\"not abr ?\\n{abr.right}\")\n",
    "            return False\n",
    "    return True"
   ]
  },
  {
   "cell_type": "code",
   "execution_count": 42,
   "id": "6634ef59-096f-430b-976d-d583185943c6",
   "metadata": {},
   "outputs": [
    {
     "data": {
      "text/plain": [
       "True"
      ]
     },
     "execution_count": 42,
     "metadata": {},
     "output_type": "execute_result"
    }
   ],
   "source": [
    "is_abr(ex1)"
   ]
  },
  {
   "cell_type": "code",
   "execution_count": 43,
   "id": "0236c3d3-f8a3-41c4-96e8-578fbc982a34",
   "metadata": {},
   "outputs": [
    {
     "name": "stdout",
     "output_type": "stream",
     "text": [
      "Max left cda, value ccc\n"
     ]
    },
    {
     "data": {
      "text/plain": [
       "False"
      ]
     },
     "execution_count": 43,
     "metadata": {},
     "output_type": "execute_result"
    }
   ],
   "source": [
    "is_abr(ex2)"
   ]
  },
  {
   "cell_type": "code",
   "execution_count": 44,
   "id": "3d6b8767-8fde-4ce6-9345-069db689bc36",
   "metadata": {},
   "outputs": [
    {
     "data": {
      "text/plain": [
       "True"
      ]
     },
     "execution_count": 44,
     "metadata": {},
     "output_type": "execute_result"
    }
   ],
   "source": [
    "is_abr(ex3)"
   ]
  },
  {
   "cell_type": "code",
   "execution_count": 45,
   "id": "e472e1bd-2917-427f-b9d5-1a6795db5e2d",
   "metadata": {},
   "outputs": [
    {
     "name": "stdout",
     "output_type": "stream",
     "text": [
      "Min right aab, value cca\n"
     ]
    },
    {
     "data": {
      "text/plain": [
       "False"
      ]
     },
     "execution_count": 45,
     "metadata": {},
     "output_type": "execute_result"
    }
   ],
   "source": [
    "is_abr(ex4)"
   ]
  },
  {
   "cell_type": "markdown",
   "id": "6e8679dc-94f2-49e1-ad28-0097389f6a34",
   "metadata": {},
   "source": [
    "## Recherche dans un arbre binaire de recherche"
   ]
  },
  {
   "cell_type": "code",
   "execution_count": null,
   "id": "e5645568-b7d0-4b16-b11e-c345e60f3c0a",
   "metadata": {},
   "outputs": [],
   "source": [
    "def search_abr(abr: BTree, value: str) ->  bool:\n",
    "    \"\"\"\n",
    "    Renvoie True si un nœud de l'arbre contient value, False sinon.\n",
    "    On suppose que l'arbre vérifie la propritété des arbres binaires de recherche\n",
    "    \"\"\"\n",
    "\n",
    "    if abr.value == value:\n",
    "        return True\n",
    "    elif value < abr.value and abr.left:\n",
    "        return search_abr(abr.left)\n",
    "    elif value > abr.value and abr.right:\n",
    "        return search_abr(abr.right) "
   ]
  }
 ],
 "metadata": {
  "kernelspec": {
   "display_name": "Python 3 (ipykernel)",
   "language": "python",
   "name": "python3"
  },
  "language_info": {
   "codemirror_mode": {
    "name": "ipython",
    "version": 3
   },
   "file_extension": ".py",
   "mimetype": "text/x-python",
   "name": "python",
   "nbconvert_exporter": "python",
   "pygments_lexer": "ipython3",
   "version": "3.11.8"
  }
 },
 "nbformat": 4,
 "nbformat_minor": 5
}
