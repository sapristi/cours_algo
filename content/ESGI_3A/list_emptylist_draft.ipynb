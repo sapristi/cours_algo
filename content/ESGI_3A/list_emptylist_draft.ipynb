{
 "cells": [
  {
   "cell_type": "code",
   "execution_count": 1,
   "id": "6415cf45-4a27-4843-a0e7-0b2db4c0eee1",
   "metadata": {},
   "outputs": [],
   "source": [
    "class CircularListException(Exception):\n",
    "    def __init__(self, item):\n",
    "        self.item = item\n",
    "\n",
    "    def __str__(self):\n",
    "        return f\"CircularListException: item with id {id(self.item)} and value {self.item.value} seen multiple times\"\n",
    "\n",
    "\n",
    "class List:\n",
    "    __slots__ = (\"value\", \"_next\")\n",
    "    def __init__(self, value, _next=None):\n",
    "        self.value = value\n",
    "        if _next is None:\n",
    "            self._next = EMPTY\n",
    "        else:\n",
    "            self._next = _next\n",
    "\n",
    "    def _iter_items(self):\n",
    "        \"\"\"Permet d'itérer sur les éléments de la liste avec une boucle for\n",
    "        Inclus une protection contre les boucles infinies: \n",
    "        en cas de liste circulaire, une exception CircularListException sera levée\n",
    "        \"\"\"\n",
    "        current = self\n",
    "        seen = set()\n",
    "        while current != EMPTY:\n",
    "            yield current\n",
    "            if id(current._next) in seen:\n",
    "                raise CircularListException(current._next)\n",
    "            current = current._next\n",
    "            seen.add(id(current))\n",
    "        \n",
    "    def _repr_html_(self):\n",
    "        return \" ⟶ \".join(\n",
    "            str(item.value) for item in self._iter_items()\n",
    "        ) + \" ⟶ ■\"\n",
    "\n",
    "    def __eq__(self, other):\n",
    "        if not isinstance(other, List):\n",
    "            return False\n",
    "        for i, j in zip(self._iter_items(), other._iter_items()):\n",
    "            if i.value != j.value:\n",
    "                return False\n",
    "        return True\n",
    "\n",
    "    def __radd__(self, value):\n",
    "        if isinstance(value, List):\n",
    "            raise NotImplementedError\n",
    "        return List(value, self)\n",
    "    \n",
    "class EmptyList(List):\n",
    "    __slots__ = ()\n",
    "    def __init__(self):\n",
    "        pass\n",
    "    def __len__(self):\n",
    "        return 0\n",
    "    def __eq__(self, other):\n",
    "        return isinstance(other, EmptyList)\n",
    "    def _iter_items(self):\n",
    "        return\n",
    "        yield\n",
    "    # def __hash__(self):\n",
    "    #     return int.from_bytes(\"__EMPTY_LIST__\".encode())\n",
    "    def _repr_html_(self):\n",
    "        return \"■\"\n",
    "\n",
    "    def insert(self, pos, value):\n",
    "        if pos != 0:\n",
    "            raise ValueError(f\"Cannot insert in empty list at position {pos}\")\n",
    "        self = List(value)\n",
    "\n",
    "EMPTY = EmptyList()"
   ]
  },
  {
   "cell_type": "code",
   "execution_count": 2,
   "id": "e36a4b88-ae1c-49f3-88e6-611eacb1ab9b",
   "metadata": {},
   "outputs": [
    {
     "data": {
      "text/html": [
       "3 ⟶ ■"
      ],
      "text/plain": [
       "<__main__.List at 0x7f570c17d690>"
      ]
     },
     "execution_count": 2,
     "metadata": {},
     "output_type": "execute_result"
    }
   ],
   "source": [
    "(3 + EMPTY)"
   ]
  },
  {
   "cell_type": "code",
   "execution_count": null,
   "id": "feaf47e0-c1e0-4013-a651-7bfc74e36748",
   "metadata": {},
   "outputs": [],
   "source": []
  }
 ],
 "metadata": {
  "kernelspec": {
   "display_name": "Python 3 (ipykernel)",
   "language": "python",
   "name": "python3"
  },
  "language_info": {
   "codemirror_mode": {
    "name": "ipython",
    "version": 3
   },
   "file_extension": ".py",
   "mimetype": "text/x-python",
   "name": "python",
   "nbconvert_exporter": "python",
   "pygments_lexer": "ipython3",
   "version": "3.11.8"
  }
 },
 "nbformat": 4,
 "nbformat_minor": 5
}
