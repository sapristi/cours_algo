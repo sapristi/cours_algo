{
 "cells": [
  {
   "cell_type": "markdown",
   "id": "e91205f4-1fb5-427d-ad29-e5030e04be99",
   "metadata": {},
   "source": [
    "# Autres exercices\n",
    "\n",
    "- afficher les éléments d'une liste\n",
    "- afficher les éléments d'une liste en sens inverse\n",
    "- retourner une liste\n",
    "- afficher les éléments d'un arbre\n",
    "- afficher les éléments d'un arbre en sens inverse"
   ]
  },
  {
   "cell_type": "markdown",
   "id": "8ed9a179-e48b-4f87-bde2-169ec076ef4c",
   "metadata": {},
   "source": [
    "# Techniques algorithmiques\n",
    "\n",
    "## Algos gloutons\n",
    "\n",
    "### Rendu monnaie\n",
    "\n",
    "Une caisse dispose des pièces et des billets suivants : `50`; `20`; `10`; `2`; `1`.\n",
    "On a autant de pièces et de billets que nécessaire.\n",
    "\n",
    "Écrire une fonction qui donne la répartition des billets et pièces, suivant le montant à donner. On souhaite donner aussi peut de pièces / billets que possible."
   ]
  },
  {
   "cell_type": "code",
   "execution_count": null,
   "id": "e98bb14a-4ca5-4896-8991-081fb1313d8a",
   "metadata": {},
   "outputs": [],
   "source": [
    "def rendu_monnaie(montant: int) -> dict:\n",
    "    \"\"\"Renvoie un dictionnaire qui associe à chaque valeur de pièce / billet, le nombre associé\"\"\""
   ]
  },
  {
   "cell_type": "markdown",
   "id": "abb70238-ee99-4b39-a9c1-c1e17269a61b",
   "metadata": {},
   "source": [
    "\n",
    "### Sac à dos\n",
    "\n",
    "On souhaite remplir un sac avec des objets. Le sac a une contenance maximale, et à chaque objet est associé un poids et une valeur monétaire.\n",
    "\n",
    "\n",
    "On va supposer qu'on veut ranger les objets suivants:\n",
    "\n",
    "<table>\n",
    "    <tr> <th> Indice</th><td>0</td><td>1</td><td>2</td><td>3</td>\n",
    "    </tr>\n",
    "    <tr>\n",
    "    <th> Poids </th> <td>13</td><td>12</td><td>8</td><td>3</td>\n",
    "    </tr>\n",
    "    <tr>\n",
    "    <th> Valeur </th> <td>7</td> <td>4</td><td>3</td><td>11</td>\n",
    "    </tr>\n",
    "</table>\n",
    "\n",
    "Et que le sac peut contenir au plus 30kg.\n",
    "\n",
    "On peut mettre plusieurs fois le même objet dans le sac.\n",
    "\n",
    "1. Quel choix vas-t-on faire ?\n",
    "2. Décrire une stratégie qui permet de réaliser ce choix, quelle que soit l'entrée.\n",
    "3. Écrire la fonction correspondante.\n"
   ]
  },
  {
   "cell_type": "markdown",
   "id": "02c45010-3dce-46c0-b5ee-48307d0ddc3e",
   "metadata": {},
   "source": [
    "## Mise en cache (programmation dynamique, mémoïzation)\n",
    "\n",
    "On va écrire une fonction qui calcule les valeurs de la suite de Fibonacci.\n",
    "La suite de Fibonacci est définie comme:\n",
    "\n",
    "- F<sub>0</sub> = 0\n",
    "- F<sub>1</sub> = 1\n",
    "- F<sub>n+2</sub> = F<sub>n+1</sub> + F<sub>n</sub>\n",
    "\n",
    "### Fonction naïve\n",
    "\n",
    "Écire une fonction récursive qui permet de calculer le n<sup>ème</sup> terme de la suite de Fibonacci\n",
    "\n"
   ]
  },
  {
   "cell_type": "code",
   "execution_count": null,
   "id": "8d57191f-4e67-4c35-93f8-ddc90de4bce8",
   "metadata": {},
   "outputs": [],
   "source": [
    "def fib(n: int) -> int:\n",
    "    ..."
   ]
  },
  {
   "cell_type": "markdown",
   "id": "d3b834b4-a6b1-457b-be51-a2103da07438",
   "metadata": {},
   "source": [
    "## Fonction avec mise en cahe\n",
    "\n",
    "Afin d'améliorer les performanaces, on pourra utiliser un cache, pour éviter de calculer la même valeur plusieurs fois."
   ]
  },
  {
   "cell_type": "code",
   "execution_count": null,
   "id": "0e7937f0-855a-4c92-b8ef-05f2d0e0aba6",
   "metadata": {},
   "outputs": [],
   "source": [
    "# le cache associe une clé (ici la valeur d'entrée) avec une valeur (ici la valeur de sortie)\n",
    "# Un dictionnaire permet d'implémenter un cache.\n",
    "cache = {}\n",
    "\n",
    "def fib_cache(n: int) -> int:\n",
    "    ..."
   ]
  },
  {
   "cell_type": "markdown",
   "id": "c61204f3-ed74-44e7-ac85-e4bb00852c63",
   "metadata": {},
   "source": [
    "## Comparaison"
   ]
  },
  {
   "cell_type": "code",
   "execution_count": null,
   "id": "534a175b-160a-4a89-b9ca-51c4f95d7a49",
   "metadata": {},
   "outputs": [],
   "source": [
    "from local_lib.misc import affiche_valeurs\n",
    "\n",
    "affiche_valeurs(\n",
    "    fib=(\n",
    "        (10, fib(10)),\n",
    "        (20, fib(20)),\n",
    "    ),\n",
    "    fib_cache=(\n",
    "        (10, fib_cache(10)),\n",
    "        (20, fib_cache(20)),\n",
    "    )\n",
    ")"
   ]
  }
 ],
 "metadata": {
  "kernelspec": {
   "display_name": "Python 3 (ipykernel)",
   "language": "python",
   "name": "python3"
  },
  "language_info": {
   "codemirror_mode": {
    "name": "ipython",
    "version": 3
   },
   "file_extension": ".py",
   "mimetype": "text/x-python",
   "name": "python",
   "nbconvert_exporter": "python",
   "pygments_lexer": "ipython3",
   "version": "3.12.4"
  }
 },
 "nbformat": 4,
 "nbformat_minor": 5
}
