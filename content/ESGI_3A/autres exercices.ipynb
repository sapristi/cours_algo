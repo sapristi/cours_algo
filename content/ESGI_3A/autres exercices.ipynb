{
 "cells": [
  {
   "cell_type": "markdown",
   "id": "e91205f4-1fb5-427d-ad29-e5030e04be99",
   "metadata": {},
   "source": [
    "# Autres exercices\n",
    "\n",
    "- afficher les éléments d'une liste\n",
    "- afficher les éléments d'une liste en sens inverse\n",
    "- afficher les éléments d'un arbre\n",
    "- afficher les éléments d'un arbre en sens inverse"
   ]
  },
  {
   "cell_type": "markdown",
   "id": "8ed9a179-e48b-4f87-bde2-169ec076ef4c",
   "metadata": {},
   "source": []
  }
 ],
 "metadata": {
  "kernelspec": {
   "display_name": "Python 3 (ipykernel)",
   "language": "python",
   "name": "python3"
  },
  "language_info": {
   "codemirror_mode": {
    "name": "ipython",
    "version": 3
   },
   "file_extension": ".py",
   "mimetype": "text/x-python",
   "name": "python",
   "nbconvert_exporter": "python",
   "pygments_lexer": "ipython3",
   "version": "3.12.4"
  }
 },
 "nbformat": 4,
 "nbformat_minor": 5
}
