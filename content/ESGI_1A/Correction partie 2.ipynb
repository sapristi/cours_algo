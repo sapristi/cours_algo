{
  "metadata": {
    "kernelspec": {
      "name": "python",
      "display_name": "Python (Pyodide)",
      "language": "python"
    },
    "language_info": {
      "codemirror_mode": {
        "name": "python",
        "version": 3
      },
      "file_extension": ".py",
      "mimetype": "text/x-python",
      "name": "python",
      "nbconvert_exporter": "python",
      "pygments_lexer": "ipython3",
      "version": "3.8"
    }
  },
  "nbformat_minor": 4,
  "nbformat": 4,
  "cells": [
    {
      "cell_type": "markdown",
      "source": "# Bases",
      "metadata": {}
    },
    {
      "cell_type": "code",
      "source": "def base_1(values: list[int]) -> int:\n    \"\"\"\n    Pré-condition: au moins un élément\n    Sortie: produit du premier et dernier élément\n    \"\"\"\n    assert len(values) >= 1\n    \n    return values[0] * values[-1]\n\nbase_1([3, 2, 5])",
      "metadata": {
        "trusted": true
      },
      "outputs": [
        {
          "execution_count": 1,
          "output_type": "execute_result",
          "data": {
            "text/plain": "15"
          },
          "metadata": {}
        }
      ],
      "execution_count": 1
    },
    {
      "cell_type": "code",
      "source": "def base_2(values: list[int]) -> int:\n    \"\"\"\n    Sortie: Somme des éléments du tableau\n    \"\"\"\n    res: int = 0\n    for value in values:\n        res = res + value\n    return res\n\nbase_2([3, 2, 5])",
      "metadata": {
        "trusted": true
      },
      "outputs": [
        {
          "execution_count": 2,
          "output_type": "execute_result",
          "data": {
            "text/plain": "10"
          },
          "metadata": {}
        }
      ],
      "execution_count": 2
    },
    {
      "cell_type": "code",
      "source": "def base_3(n: int) -> None:\n    \"\"\"\n    Pré-condition: n >= 1\n    Somme des nombres de 1 à n\n    \"\"\"\n    assert n >= 1\n    \n    res: int = 0\n    for i in range(n+1):\n        res = res + i\n    return res\n\nbase_3(6)",
      "metadata": {
        "trusted": true
      },
      "outputs": [
        {
          "execution_count": 3,
          "output_type": "execute_result",
          "data": {
            "text/plain": "21"
          },
          "metadata": {}
        }
      ],
      "execution_count": 3
    },
    {
      "cell_type": "code",
      "source": "def base_4(values: list[int]) -> int:\n    \"\"\"\n    Sortie: Somme des chaque élément multiplié par l'indice auquel il se trouve\n    \"\"\"\n    res: int = 0\n    for i, value in enumerate(values):\n        res = res + i * value\n    return res\n\nbase_4([3, 2, 5])",
      "metadata": {
        "trusted": true
      },
      "outputs": [
        {
          "execution_count": 4,
          "output_type": "execute_result",
          "data": {
            "text/plain": "12"
          },
          "metadata": {}
        }
      ],
      "execution_count": 4
    },
    {
      "cell_type": "code",
      "source": "def base_5(values: list[int]) -> tuple[int, int]:\n    \"\"\"\n    Sortie: tuple \n        - somme des éléments dont l'indice est pair\n        - somme des éléments dont l'indice est impair\n    \"\"\"\n    somme_pair: int = 0\n    somme_impair: int = 0\n    for i, value in enumerate(values):\n        if i % 2 == 0:\n            somme_pair = somme_pair + value\n        else:\n            somme_impair = somme_impair + value\n    return somme_pair, somme_impair\n\nbase_5([3, 2, 5])",
      "metadata": {
        "trusted": true
      },
      "outputs": [
        {
          "execution_count": 5,
          "output_type": "execute_result",
          "data": {
            "text/plain": "(8, 2)"
          },
          "metadata": {}
        }
      ],
      "execution_count": 5
    },
    {
      "cell_type": "code",
      "source": "def base_6(values: list[int]) -> None:\n    \"\"\"\n    Afficher chaque élément du tableau, à l'aide d'une boucle while\n    (et non pas une boucle for)\n    \"\"\"\n    i: int = 0\n    while i < len(values):\n        print(values[i])\n        i = i + 1\n\nbase_6([3, 2, 5])",
      "metadata": {
        "trusted": true
      },
      "outputs": [
        {
          "name": "stdout",
          "text": "3\n2\n5\n",
          "output_type": "stream"
        }
      ],
      "execution_count": 6
    },
    {
      "cell_type": "markdown",
      "source": "# Correction partiel\n\n## Exercice 2",
      "metadata": {}
    },
    {
      "cell_type": "code",
      "source": "def max_tableau(values: list[int]) -> int:\n    \"\"\"\n    Pré-condition: au moins un élément\n    Sortie: plus grande valeur\n    \"\"\"\n    assert len(values) >= 1\n    \n    current_max: int = values[0]\n    for value in values:\n        if value > current_max:\n            current_max = value\n    return current_max\n\nmax_tableau([3, 2, 5])",
      "metadata": {
        "trusted": true
      },
      "outputs": [
        {
          "execution_count": 7,
          "output_type": "execute_result",
          "data": {
            "text/plain": "5"
          },
          "metadata": {}
        }
      ],
      "execution_count": 7
    },
    {
      "cell_type": "markdown",
      "source": "## Exercice 3",
      "metadata": {}
    },
    {
      "cell_type": "code",
      "source": "def moyenne_tableau(values: list[float]) -> float:\n    \"\"\"Sortie: valeur moyenne\"\"\"\n ",
      "metadata": {
        "trusted": true
      },
      "outputs": [],
      "execution_count": 8
    },
    {
      "cell_type": "markdown",
      "source": "# Manipulation de tableaux, et indices\n\n## Reverse\n\n ",
      "metadata": {}
    },
    {
      "cell_type": "code",
      "source": "def reverse(values: list[int]) -> list[int]:\n    \"\"\"\n    Sortie: tableau renversé\n    Ex: [1, 2 , 5, 3] -> [3, 5, 2, 1]\n    \"\"\"\n ",
      "metadata": {
        "trusted": true
      },
      "outputs": [],
      "execution_count": 9
    },
    {
      "cell_type": "markdown",
      "source": "## Permutation\n\n ",
      "metadata": {}
    },
    {
      "cell_type": "code",
      "source": "def permut(values: list[int], indice: int) -> list[int]:\n    \"\"\"\n    Pré-condition: vérifier que l'opération est valide\n    Sortie: values, où l'élément désigné par indice, et le suivant, ont été inversés\n    \"\"\"\n ",
      "metadata": {
        "trusted": true
      },
      "outputs": [],
      "execution_count": 10
    },
    {
      "cell_type": "markdown",
      "source": "## Permutation par blocs",
      "metadata": {}
    },
    {
      "cell_type": "code",
      "source": "def bloc_permutation(values: list[int]) -> list[int]:\n    \"\"\"\n    Sortie: un tableau, où chaque moitié  a été inversée\n    Note: si le nombre d'éléments dans le tableau est impair, l'élément du milieu ne bouge pas.\n    \"\"\"\n ",
      "metadata": {
        "trusted": true
      },
      "outputs": [],
      "execution_count": 11
    },
    {
      "cell_type": "markdown",
      "source": "## Algo inconnu\n\n\n ",
      "metadata": {}
    },
    {
      "cell_type": "markdown",
      "source": "```python\ndef algo_inconnu(values: list[int]) -> list[int]:\n    res: list[int] = [0] * len(values)\n    n: int = len(values)\n    for i, value in enumerate(values):\n        res[n-1-i] = value\n    return res\n```\n\n1. Simuler l'exécution de l'algorithme sur de petites entrées.\n2. À quoi sert cet algorithme ?\n3. Est ce qu'il faudrait rajouter une validation sur les valeurs en entrée ?",
      "metadata": {}
    },
    {
      "cell_type": "markdown",
      "source": "# Autres\n\n## Recherche 1\n\n ",
      "metadata": {}
    },
    {
      "cell_type": "code",
      "source": "def compte(values: list[int], x: int) -> int:\n    \"\"\"Sortie: nombre d'éléments égaux à x\"\"\"\n ",
      "metadata": {
        "trusted": true
      },
      "outputs": [],
      "execution_count": 12
    },
    {
      "cell_type": "markdown",
      "source": "## Recherche 2\n\n ",
      "metadata": {}
    },
    {
      "cell_type": "code",
      "source": "def find(values: list[int], x: int) -> int:\n    \"\"\"Sortie: Somme des indices où se trouve la valeur x\"\"\"\n ",
      "metadata": {
        "trusted": true
      },
      "outputs": [],
      "execution_count": 13
    },
    {
      "cell_type": "markdown",
      "source": "## Recherche 3\n ",
      "metadata": {}
    },
    {
      "cell_type": "code",
      "source": "def find_all(values: list[int]) -> list[int]:\n    \"\"\"\n    On veut compter le nombre de fois que chaque nombre apparaît dans un tableau en entrée.\n    Pré-condition: Les éléments du tableaux sont compris entre 0 et 10 (inclus)\n    Sortie: Un tableau où l'élément à l'indice i représente le nombre de fois où i apparaît dans le tableau en entrée.\n    \"\"\"\n ",
      "metadata": {
        "trusted": true
      },
      "outputs": [],
      "execution_count": 14
    },
    {
      "cell_type": "markdown",
      "source": "## Éléments supérieurs à la moyenne\n\n\n ",
      "metadata": {}
    },
    {
      "cell_type": "code",
      "source": "def find_2(values: list[int]) -> int:\n    \"\"\"\n    Pré-condition: au moins un élément\n    Sortie: Somme des indices où la valeur est supérieure à la moyennezq\n    \"\"\"\n ",
      "metadata": {
        "trusted": true
      },
      "outputs": [],
      "execution_count": 15
    },
    {
      "cell_type": "markdown",
      "source": "## Combined\n\n ",
      "metadata": {}
    },
    {
      "cell_type": "code",
      "source": "def find_combined(values: list[int]) -> tuple[int, int, int]:\n    \"\"\"\n    Pré-condition: au moins un élément\n    Sortie: le max, le min, la moyenne\n    \"\"\"\n ",
      "metadata": {
        "trusted": true
      },
      "outputs": [],
      "execution_count": 16
    },
    {
      "cell_type": "markdown",
      "source": "## Recherche séquences 1\n\n ",
      "metadata": {}
    },
    {
      "cell_type": "code",
      "source": "def find_sequence(values: list[int]) -> int:\n    \"\"\"Sortie: 1er indice d'une plus longue séquence de 0 (erreur si pas de 0)\"\"\"\n ",
      "metadata": {
        "trusted": true
      },
      "outputs": [],
      "execution_count": 17
    },
    {
      "cell_type": "markdown",
      "source": "## Recherche séquences 2\n\n ",
      "metadata": {}
    },
    {
      "cell_type": "code",
      "source": "def find_sequence_triee(values: list[int]) -> int:\n    \"\"\"Sortie: 1er indice d'une plus longue séquence triée\"\"\"\n ",
      "metadata": {
        "trusted": true
      },
      "outputs": [],
      "execution_count": 18
    },
    {
      "cell_type": "markdown",
      "source": "## Algo inconnu 2\n\n```python\ndef algo_inconnu_2(values: list[int]) -> int:\n    \"\"\"Sortie: ???\"\"\"\n    x: int = values[0]\n    y: int = values[0]\n    for value in values:\n        if value > x:\n            x = value\n        if value < y:\n            y = value\n    return x - y\n```\n\n1. Éxecuter l'algorithme sur de petites entrées\n2. Décrire ce que fait l'algorithme\n3. Est ce qu'il faudrait rajouter une validation sur les valeurs en entrée ?",
      "metadata": {}
    },
    {
      "cell_type": "markdown",
      "source": "## Sac à dos\n\nOn veut remplir un sac avec des objets. Le sac a une contenance maximale, on aimerat le remplir autant qu'on peut en prenant les éléments dans l'ordre.\n\n ",
      "metadata": {}
    },
    {
      "cell_type": "code",
      "source": "def remplis_sac(values: list[int], poids_max: int) -> int:\n    \"\"\"Sortie: poids du sac à dos, rempli autant qu'on peut...\"\"\"\n   ",
      "metadata": {
        "trusted": true
      },
      "outputs": [],
      "execution_count": 19
    },
    {
      "cell_type": "markdown",
      "source": "# Intro tri\n\nExercies dont on pourra réutiliser les résultats pour implémenter des algorithmes de tri\n\nNote: on supposera que tous les tris se font par ordre croissant.\n\n## Vérifier si un tableau est trié\n ",
      "metadata": {}
    },
    {
      "cell_type": "code",
      "source": "def verif_tri(values: list[int]) -> bool:\n    \"\"\"Sortie: tableau trié ? \"\"\"\n ",
      "metadata": {
        "trusted": true
      },
      "outputs": [],
      "execution_count": 20
    },
    {
      "cell_type": "markdown",
      "source": "## Tri fusion - 0\n ",
      "metadata": {}
    },
    {
      "cell_type": "code",
      "source": "def fusionne_tableaux_triés(values1: list[int], values2: list[int]) -> list[int]:\n    \"\"\"\n    Pré-condition: les tableaux sont triés\n    Sortie: un tableau qui contient l'ensemble des éléments, triés.\n    \"\"\"\n ",
      "metadata": {
        "trusted": true
      },
      "outputs": [],
      "execution_count": 21
    },
    {
      "cell_type": "markdown",
      "source": "## Recherche dans un tableau trié ",
      "metadata": {}
    },
    {
      "cell_type": "code",
      "source": "def find(values: list[int], n: int) -> int:\n    \"\"\"\n    Pré-condition: values est trié\n    Sortie: un indice du tableau où n est présent\n    Erreur si n n'est pas présent\n    \"\"\"\n ",
      "metadata": {
        "trusted": true
      },
      "outputs": [],
      "execution_count": 22
    }
  ]
}