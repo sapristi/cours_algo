{
 "cells": [
  {
   "cell_type": "markdown",
   "metadata": {},
   "source": [
    "# Niveau 1\n",
    "\n",
    "## Min 3"
   ]
  },
  {
   "cell_type": "code",
   "execution_count": 1,
   "metadata": {},
   "outputs": [
    {
     "data": {
      "text/plain": [
       "2"
      ]
     },
     "execution_count": 1,
     "metadata": {},
     "output_type": "execute_result"
    }
   ],
   "source": [
    "def min3(a: int, b: int, c: int) -> int:\n",
    "    \"\"\"Sortie: le plus petit des 3 nombres.\"\"\"\n",
    "    if a <= b and a <= c:\n",
    "        return a\n",
    "    if b <= a and b <= c:\n",
    "        return b\n",
    "    if c <= a and c <= b:\n",
    "        return c\n",
    "\n",
    "min3(4, 2, 9)"
   ]
  },
  {
   "cell_type": "markdown",
   "metadata": {},
   "source": [
    "## Min 9"
   ]
  },
  {
   "cell_type": "code",
   "execution_count": 2,
   "metadata": {},
   "outputs": [
    {
     "data": {
      "text/plain": [
       "1"
      ]
     },
     "execution_count": 2,
     "metadata": {},
     "output_type": "execute_result"
    }
   ],
   "source": [
    "def min9(a: int, b: int, c: int, d: int, e: int, f: int, g: int, h: int, i: int) -> int:\n",
    "    \"\"\"Sortie: le plus petit des 9 nombres.\"\"\"\n",
    "    return min3(\n",
    "        min3(a, b, c),\n",
    "        min3(d, e, f),\n",
    "        min3(g, h, i)\n",
    "    )\n",
    "\n",
    "min9(2, 8, 4, 8, 2, 3, 6, 1, 18)"
   ]
  },
  {
   "cell_type": "markdown",
   "metadata": {},
   "source": [
    "## Conversion"
   ]
  },
  {
   "cell_type": "code",
   "execution_count": 3,
   "metadata": {},
   "outputs": [
    {
     "data": {
      "text/plain": [
       "186610"
      ]
     },
     "execution_count": 3,
     "metadata": {},
     "output_type": "execute_result"
    }
   ],
   "source": [
    "def duree_en_secondes(j: int, h: int, m: int, s: int) -> int:\n",
    "    assert j >= 0\n",
    "    assert h >= 0 and h <= 24\n",
    "    assert m >= 0 and m <= 60\n",
    "    assert s >= 0 and s <= 60\n",
    "    \n",
    "    return j * 3600 * 24 + h * 3600 + m * 60 + s\n",
    "duree_en_secondes(2, 3, 50, 10)"
   ]
  },
  {
   "cell_type": "markdown",
   "metadata": {},
   "source": [
    "## Algorithme qui...\n",
    "\n",
    "Trouve un nombre entier positif tel que:\n",
    "- son carré est plus grand que 6000\n",
    "- son cube divisé par 100  est plus grand que 10000"
   ]
  },
  {
   "cell_type": "code",
   "execution_count": 4,
   "metadata": {},
   "outputs": [
    {
     "data": {
      "text/plain": [
       "216"
      ]
     },
     "execution_count": 4,
     "metadata": {},
     "output_type": "execute_result"
    }
   ],
   "source": [
    "def find_nombre() -> int:\n",
    "    nombre: int = 0\n",
    "    while True:\n",
    "        if nombre * nombre > 6000 and nombre * nombre * nombre / 1000 > 10_000:\n",
    "            return nombre\n",
    "        nombre = nombre + 1 \n",
    "\n",
    "find_nombre()"
   ]
  },
  {
   "cell_type": "markdown",
   "metadata": {},
   "source": [
    "# Niveau 2\n",
    "\n",
    "## Dates\n",
    "\n",
    "### Années bisextiles\n",
    "\n",
    "Écrire une fonction qui prends en entrée un nombre entier, et:\n",
    "- vérifie que le nombre est une année valide (sinon lève une erreur)\n",
    "- renvoie un booléen qui indique si l'année donnée est bisextile\n",
    "\n",
    "\n",
    ">  Les années sont en général bissextiles si elles sont multiples de quatre, mais pas si elles sont multiples de cent, à l'exception des années multiples de quatre cents qui, elles, sont également bissextiles. "
   ]
  },
  {
   "cell_type": "code",
   "execution_count": 5,
   "metadata": {},
   "outputs": [],
   "source": [
    "def is_bisextile(annee: int) -> int:\n",
    "    assert annee >= 0\n",
    "    if annee % 400 == 0:\n",
    "        return True\n",
    "    if annee % 100 == 0:\n",
    "        return False\n",
    "    if annee % 4 == 0:\n",
    "        return True\n",
    "    return False"
   ]
  },
  {
   "cell_type": "code",
   "execution_count": 6,
   "metadata": {},
   "outputs": [
    {
     "data": {
      "text/plain": [
       "True"
      ]
     },
     "execution_count": 6,
     "metadata": {},
     "output_type": "execute_result"
    }
   ],
   "source": [
    "is_bisextile(2024)"
   ]
  },
  {
   "cell_type": "markdown",
   "metadata": {},
   "source": [
    "### Nombre de jours par an"
   ]
  },
  {
   "cell_type": "code",
   "execution_count": 7,
   "metadata": {},
   "outputs": [
    {
     "data": {
      "text/plain": [
       "365"
      ]
     },
     "execution_count": 7,
     "metadata": {},
     "output_type": "execute_result"
    }
   ],
   "source": [
    "def jours_par_annee(annee: int) -> int:\n",
    "    \"\"\"\n",
    "    Pré-condition: année > 0\n",
    "    Sortie: nombre de jour de l'année\n",
    "    \"\"\"\n",
    "    assert annee >= 0\n",
    "    if is_bisextile(annee):\n",
    "        return 365\n",
    "    else:\n",
    "        return 364\n",
    "jours_par_annee(2024)"
   ]
  },
  {
   "cell_type": "markdown",
   "metadata": {},
   "source": [
    "### Nombre de jours par mois"
   ]
  },
  {
   "cell_type": "code",
   "execution_count": 8,
   "metadata": {},
   "outputs": [
    {
     "data": {
      "text/plain": [
       "29"
      ]
     },
     "execution_count": 8,
     "metadata": {},
     "output_type": "execute_result"
    }
   ],
   "source": [
    "def jours_par_mois(annee: int, mois: int) -> int:\n",
    "    \"\"\"\n",
    "    Pré-condition: année > 0 , 1 ≤ mois ≤ 12\n",
    "    Sortie: le nombre de jour pour le mois et l'année donnée\n",
    "    \"\"\"\n",
    "    assert annee >= 0\n",
    "    assert mois >= 1 and mois <= 12\n",
    "\n",
    "    if mois == 1:\n",
    "        return 31\n",
    "    if mois == 2:\n",
    "        if is_bisextile(annee):\n",
    "            return 29\n",
    "        else:\n",
    "            return 28\n",
    "    if mois == 3:\n",
    "        return 31\n",
    "    if mois == 4:\n",
    "        return 30\n",
    "    if mois == 5:\n",
    "        return 31\n",
    "    if mois == 6:\n",
    "        return 30\n",
    "    if mois == 7:\n",
    "        return 31\n",
    "    if mois == 8:\n",
    "        return 31\n",
    "    if mois == 9:\n",
    "        return 30\n",
    "    if mois == 10:\n",
    "        return 31\n",
    "    if mois == 11:\n",
    "        return 30\n",
    "    if mois == 12:\n",
    "        return 31\n",
    "\n",
    "jours_par_mois(2024, 2)"
   ]
  },
  {
   "cell_type": "markdown",
   "metadata": {},
   "source": [
    "### Comparer dates"
   ]
  },
  {
   "cell_type": "code",
   "execution_count": 9,
   "metadata": {},
   "outputs": [
    {
     "data": {
      "text/plain": [
       "-1"
      ]
     },
     "execution_count": 9,
     "metadata": {},
     "output_type": "execute_result"
    }
   ],
   "source": [
    "def compare_dates(annee1: int, mois1: int, jour1: int, annee2: int, mois2: int, jour2: int) -> int:\n",
    "    \"\"\"\n",
    "    Pré-condition: année > 0 , 1 ≤ mois ≤ 12, 1 ≤ j1 < jours_par_mois(année, mois)\n",
    "    Sortie: \n",
    "    - 0 si les dates sont égales\n",
    "    - 1 si la 1ère date est plus grande\n",
    "    - -1 sinon\n",
    "    \"\"\"\n",
    "    assert annee1 >= 0\n",
    "    assert annee2 >= 0\n",
    "    assert mois1 >= 1 and mois1 <= 12\n",
    "    assert mois2 >= 1 and mois2 <= 12\n",
    "    assert jour1 >= 1 and jour1 <= jours_par_mois(annee1, mois1)\n",
    "    assert jour2 >= 1 and jour2 <= jours_par_mois(annee2, mois2)\n",
    "\n",
    "    if annee1 < annee2:\n",
    "        return -1\n",
    "    elif annee1 > annee2:\n",
    "        return 1\n",
    "    else:\n",
    "        # annee1 et annee2 sont egales\n",
    "        if mois1 < mois2:\n",
    "            return -1\n",
    "        elif mois1 > mois2:\n",
    "            return 1\n",
    "        else:\n",
    "             # mois 1 et mois2 sont egaux\n",
    "            if jour1 < jour2:\n",
    "                return -1\n",
    "            elif jour1 > jour2:\n",
    "                return 1\n",
    "            else:\n",
    "                return 0\n",
    "\n",
    "compare_dates(2020, 3, 12, 2020, 4, 3)"
   ]
  },
  {
   "cell_type": "markdown",
   "metadata": {},
   "source": [
    "## Entrée utilisateur\n",
    "\n",
    "Écrire une fonction qui demande son nom à l'utilisateur, puis lui demande de confirmer. Recommence tant que l'utilsateur n'a pas confirmé."
   ]
  },
  {
   "cell_type": "code",
   "execution_count": 10,
   "metadata": {},
   "outputs": [],
   "source": [
    "def get_nom() -> str:\n",
    "    nom: str\n",
    "    valid: str\n",
    "    while True:\n",
    "        nom = input(\"entrez votre nom\")\n",
    "        print(\"votre nom est\", nom, \"est-ce correct ?\")\n",
    "        valid = input(\"o / n\")\n",
    "        if valid == \"o\":\n",
    "            return nom\n",
    "\n",
    "# get_nom()\n",
    "# Ne fonctionne pas dans jupyter, mais fonctionne dans un shell python"
   ]
  },
  {
   "cell_type": "markdown",
   "metadata": {},
   "source": [
    "## Algorithme qui...\n",
    "\n",
    "Trouve un nombre entier positif tel que:\n",
    "- son carré est plus grand que 6000\n",
    "- son cube divisé par 100  est plus petit que 4000"
   ]
  },
  {
   "cell_type": "code",
   "execution_count": 11,
   "metadata": {},
   "outputs": [],
   "source": [
    "def find_nombre_2() -> int:\n",
    "    nombre: int = 0\n",
    "    while True:\n",
    "        if nombre * nombre > 6000 and nombre * nombre * nombre / 1000 < 4_000:\n",
    "            return nombre\n",
    "        nombre = nombre + 1 \n",
    "\n",
    "\n",
    "# Attention ! Cette fonction ne s'arrête jamais !\n",
    "# find_nombre_2()"
   ]
  },
  {
   "cell_type": "markdown",
   "metadata": {},
   "source": [
    "## PGCD\n",
    "\n",
    "  L'algorithme d'Euclide sur deux nombres entiers positifs a et b avec a > b ⩾ 0 procède comme suit :\n",
    "\n",
    "- si b = 0, l'algorithme termine et rend la valeur a ;\n",
    "- sinon, l'algorithme calcule le reste r de la division euclidienne de a par b, puis recommence avec a := b et b := r."
   ]
  },
  {
   "cell_type": "code",
   "execution_count": 12,
   "metadata": {},
   "outputs": [],
   "source": [
    "def pgcd(a: int, b: int):\n",
    "    assert b >= 0\n",
    "    assert a > b\n",
    "    r: int\n",
    "    while b != 0:\n",
    "        r = a % b\n",
    "        a = b\n",
    "        b = r\n",
    "    return a"
   ]
  },
  {
   "cell_type": "code",
   "execution_count": 15,
   "metadata": {},
   "outputs": [
    {
     "data": {
      "text/plain": [
       "4"
      ]
     },
     "execution_count": 15,
     "metadata": {},
     "output_type": "execute_result"
    }
   ],
   "source": [
    "pgcd(52, 8)"
   ]
  },
  {
   "cell_type": "markdown",
   "metadata": {},
   "source": [
    "## Affichage\n",
    "\n",
    "### Encadrement"
   ]
  },
  {
   "cell_type": "code",
   "execution_count": null,
   "metadata": {},
   "outputs": [],
   "source": [
    "def encadre_1(titre: str) -> str:\n",
    "   \"\"\"\n",
    "   Sortie: le titre, encadré par le caractère \"*\"\n",
    "   Exemple: \n",
    "   *******\n",
    "   *titre*\n",
    "   *******\n",
    "   \"\"\""
   ]
  },
  {
   "cell_type": "markdown",
   "metadata": {},
   "source": [
    "### Diamant"
   ]
  },
  {
   "cell_type": "code",
   "execution_count": null,
   "metadata": {},
   "outputs": [],
   "source": [
    "def diamant(n: int) -> str:\n",
    "   \"\"\"\n",
    "   Sortie: Un \"diamant\" en chaîne de caractères\n",
    "   Exemple pour n = 3:\n",
    "     *\n",
    "    ***\n",
    "   *****\n",
    "    ***\n",
    "     *\n",
    "   \"\"\""
   ]
  },
  {
   "cell_type": "code",
   "execution_count": null,
   "metadata": {},
   "outputs": [],
   "source": []
  }
 ],
 "metadata": {
  "kernelspec": {
   "display_name": "Python 3 (ipykernel)",
   "language": "python",
   "name": "python3"
  },
  "language_info": {
   "codemirror_mode": {
    "name": "ipython",
    "version": 3
   },
   "file_extension": ".py",
   "mimetype": "text/x-python",
   "name": "python",
   "nbconvert_exporter": "python",
   "pygments_lexer": "ipython3",
   "version": "3.11.8"
  }
 },
 "nbformat": 4,
 "nbformat_minor": 4
}
