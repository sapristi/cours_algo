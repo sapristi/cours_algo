{
 "cells": [
  {
   "cell_type": "code",
   "execution_count": 1,
   "id": "ab5e83f4-4521-4000-a1b9-c1932ed85e01",
   "metadata": {},
   "outputs": [],
   "source": [
    "import random\n",
    "import math\n",
    "from collections import defaultdict\n",
    "import string\n",
    "from pathlib import Path\n",
    "import json\n",
    "import shutil"
   ]
  },
  {
   "cell_type": "code",
   "execution_count": 28,
   "id": "05c76832-0f59-43c7-b541-482c2bb06337",
   "metadata": {},
   "outputs": [],
   "source": [
    "version_t = tuple[int, int, int]\n",
    "\n",
    "class GraphGenerator:\n",
    "    def __init__(self, seed=0):\n",
    "        self.n_libs = 26\n",
    "        self.max_depth = 10\n",
    "        random.seed(a=seed, version=2)\n",
    "\n",
    "    def make_version(self):\n",
    "        return (\n",
    "            math.floor(random.gammavariate(3, 0.6)),\n",
    "            math.floor(random.gammavariate(3, 0.6)),\n",
    "            math.floor(random.gammavariate(3, 0.6)),\n",
    "        )\n",
    "    \n",
    "    def make_versions(self, name):\n",
    "        nb_versions = math.ceil(random.gammavariate(6, 0.3))\n",
    "        return [\n",
    "            self.make_version() for _ in range(nb_versions)\n",
    "        ]\n",
    "        \n",
    "    def make_deps_by_name(self) -> dict[str, list[str]]:\n",
    "        names = string.ascii_uppercase\n",
    "        names_by_depth: dict[int, str] = defaultdict(list)\n",
    "        depth_by_name = {}\n",
    "        for name in names:\n",
    "            depth = random.randrange(self.max_depth)\n",
    "            names_by_depth[depth].append(name)\n",
    "            depth_by_name[name] = depth\n",
    "\n",
    "        print(depth_by_name)\n",
    "        deps_by_name = {}\n",
    "        for name in names:\n",
    "            possible_deps = [\n",
    "                dep \n",
    "                for depth, deps in names_by_depth.items()\n",
    "                for dep in deps\n",
    "                if depth < depth_by_name[name]\n",
    "            ]\n",
    "            nb_deps = min(\n",
    "                math.floor(\n",
    "                    random.gammavariate(2.5, 0.8)\n",
    "                ),\n",
    "                len(possible_deps)\n",
    "            )\n",
    "            deps_by_name[name] = random.sample(possible_deps, nb_deps)\n",
    "        return deps_by_name\n",
    "\n",
    "    def make_lib_tree_with_versions(self) -> dict[tuple[str, version_t], list[tuple[str, version_t]]]:\n",
    "        deps_by_name = self.make_deps_by_name()\n",
    "        versions_by_name = {\n",
    "            name: self.make_versions(name)\n",
    "            for name in deps_by_name.keys()\n",
    "        }\n",
    "        lib_tree_with_versions = {\n",
    "            (name, version): [\n",
    "                (dep, random.choice(versions_by_name[dep]))\n",
    "                for dep in deps\n",
    "            ]\n",
    "            for name, deps in deps_by_name.items()\n",
    "            for version in versions_by_name[name]\n",
    "        }\n",
    "        return lib_tree_with_versions\n",
    "\n",
    "    def serialize_version(self, version):\n",
    "        return \"v\" + \".\".join(str(v) for v in version)\n",
    "        \n",
    "    def serialize_lib(self, name: str, version: version_t) -> dict[str, str]:\n",
    "        return {\n",
    "            \"name\": name,\n",
    "            \"version\": self.serialize_version(version)\n",
    "        }\n",
    "    \n",
    "    def graph_to_disk(self, root_path: Path):\n",
    "        if root_path.exists():\n",
    "            shutil.rmtree(root_path)\n",
    "        root_path.mkdir(exist_ok=True)\n",
    "        all_versions = defaultdict(list)\n",
    "        for (name, version), deps in self.make_lib_tree_with_versions().items():\n",
    "            data = {\n",
    "                **self.serialize_lib(name, version),\n",
    "                \"dependencies\": [\n",
    "                    self.serialize_lib(dep_name, dep_version)\n",
    "                    for dep_name, dep_version in deps\n",
    "                ]\n",
    "            }\n",
    "            path = root_path / name / (data[\"version\"] + \".json\")\n",
    "            path.parent.mkdir(exist_ok=True)\n",
    "            path.write_text(json.dumps(data, indent=2))\n",
    "            all_versions[name].append(version)\n",
    "\n",
    "        for name, versions in all_versions.items():\n",
    "            data = {\n",
    "                \"name\": name,\n",
    "                \"versions\": [\n",
    "                    {\n",
    "                        \"version\": self.serialize_version(version),\n",
    "                        \"href\": f\"./{name}/{self.serialize_version(version)}.json\"\n",
    "                    } for version in versions\n",
    "                ]\n",
    "            }\n",
    "            path = root_path / f\"{name}.json\"\n",
    "            path.write_text(json.dumps(data, indent=2))\n",
    "        \n",
    "        data = [{\n",
    "            \"name\": name,\n",
    "            \"href\": f\"./{name}.json\"\n",
    "        } for name in all_versions.keys()]\n",
    "        path = root_path  / \"all.json\"\n",
    "        path.write_text(json.dumps(data, indent=2))"
   ]
  },
  {
   "cell_type": "code",
   "execution_count": 29,
   "id": "0c219cb7-31ff-4b78-8000-a845814c747c",
   "metadata": {
    "scrolled": true
   },
   "outputs": [
    {
     "name": "stdout",
     "output_type": "stream",
     "text": [
      "{'A': 6, 'B': 6, 'C': 0, 'D': 4, 'E': 8, 'F': 7, 'G': 6, 'H': 4, 'I': 7, 'J': 5, 'K': 9, 'L': 3, 'M': 8, 'N': 2, 'O': 4, 'P': 2, 'Q': 1, 'R': 9, 'S': 4, 'T': 8, 'U': 9, 'V': 2, 'W': 4, 'X': 1, 'Y': 1, 'Z': 5}\n"
     ]
    },
    {
     "data": {
      "text/plain": [
       "{('A', (2, 0, 0)): [('J', (2, 1, 0))],\n",
       " ('A', (0, 0, 2)): [('J', (0, 2, 0))],\n",
       " ('A', (2, 2, 0)): [('J', (2, 1, 0))],\n",
       " ('B', (0, 2, 1)): [('O', (1, 3, 2))],\n",
       " ('B', (2, 3, 0)): [('O', (1, 3, 2))],\n",
       " ('C', (0, 4, 1)): [],\n",
       " ('C', (0, 1, 2)): [],\n",
       " ('D', (1, 2, 4)): [],\n",
       " ('D', (0, 2, 0)): [],\n",
       " ('E', (1, 2, 4)): [('A', (2, 0, 0))],\n",
       " ('E', (3, 0, 2)): [('A', (2, 2, 0))],\n",
       " ('E', (4, 0, 3)): [('A', (0, 0, 2))],\n",
       " ('F', (7, 0, 0)): [('Z', (1, 1, 2)), ('S', (1, 1, 0))],\n",
       " ('F', (2, 2, 1)): [('Z', (2, 3, 1)), ('S', (2, 4, 0))],\n",
       " ('G', (0, 1, 3)): [('D', (1, 2, 4)), ('O', (1, 3, 1)), ('N', (1, 1, 0))],\n",
       " ('G', (0, 0, 1)): [('D', (1, 2, 4)), ('O', (1, 3, 1)), ('N', (1, 1, 0))],\n",
       " ('H', (3, 2, 2)): [('N', (1, 1, 0))],\n",
       " ('H', (1, 0, 1)): [('N', (1, 1, 0))],\n",
       " ('I', (1, 1, 2)): [('G', (0, 0, 1)),\n",
       "  ('Z', (1, 1, 2)),\n",
       "  ('Q', (2, 0, 2)),\n",
       "  ('B', (2, 3, 0))],\n",
       " ('I', (0, 4, 1)): [('G', (0, 0, 1)),\n",
       "  ('Z', (1, 1, 2)),\n",
       "  ('Q', (1, 3, 1)),\n",
       "  ('B', (0, 2, 1))],\n",
       " ('J', (2, 1, 0)): [('D', (1, 2, 4))],\n",
       " ('J', (0, 2, 0)): [('D', (0, 2, 0))],\n",
       " ('K', (0, 0, 1)): [('N', (1, 1, 0)), ('O', (1, 3, 2))],\n",
       " ('K', (1, 5, 2)): [('N', (4, 0, 1)), ('O', (1, 3, 1))],\n",
       " ('K', (0, 0, 0)): [('N', (4, 0, 1)), ('O', (1, 3, 1))],\n",
       " ('L', (0, 1, 2)): [('Q', (2, 0, 2)), ('V', (0, 1, 2))],\n",
       " ('L', (1, 2, 2)): [('Q', (2, 0, 2)), ('V', (1, 1, 2))],\n",
       " ('M', (2, 3, 2)): [('H', (3, 2, 2))],\n",
       " ('M', (1, 0, 2)): [('H', (3, 2, 2))],\n",
       " ('N', (4, 0, 1)): [],\n",
       " ('N', (1, 1, 0)): [],\n",
       " ('O', (1, 3, 1)): [('Y', (1, 0, 0)), ('C', (0, 1, 2))],\n",
       " ('O', (1, 3, 2)): [('Y', (1, 0, 0)), ('C', (0, 1, 2))],\n",
       " ('P', (1, 1, 3)): [],\n",
       " ('P', (2, 4, 1)): [],\n",
       " ('Q', (1, 3, 1)): [('C', (0, 1, 2))],\n",
       " ('Q', (2, 0, 2)): [('C', (0, 1, 2))],\n",
       " ('R', (1, 1, 0)): [('N', (4, 0, 1)),\n",
       "  ('X', (1, 1, 0)),\n",
       "  ('F', (7, 0, 0)),\n",
       "  ('Y', (1, 2, 1)),\n",
       "  ('L', (1, 2, 2))],\n",
       " ('R', (0, 0, 2)): [('N', (1, 1, 0)),\n",
       "  ('X', (2, 2, 1)),\n",
       "  ('F', (2, 2, 1)),\n",
       "  ('Y', (1, 0, 0)),\n",
       "  ('L', (0, 1, 2))],\n",
       " ('S', (2, 3, 1)): [('P', (2, 4, 1))],\n",
       " ('S', (2, 4, 0)): [('P', (2, 4, 1))],\n",
       " ('S', (1, 1, 0)): [('P', (2, 4, 1))],\n",
       " ('T', (2, 1, 4)): [('J', (0, 2, 0))],\n",
       " ('U', (1, 0, 1)): [],\n",
       " ('U', (0, 1, 1)): [],\n",
       " ('V', (1, 1, 2)): [('Q', (1, 3, 1))],\n",
       " ('V', (0, 1, 2)): [('Q', (2, 0, 2))],\n",
       " ('W', (2, 2, 1)): [('L', (1, 2, 2))],\n",
       " ('W', (1, 2, 0)): [('L', (0, 1, 2))],\n",
       " ('W', (1, 1, 1)): [('L', (1, 2, 2))],\n",
       " ('X', (1, 1, 0)): [('C', (0, 4, 1))],\n",
       " ('X', (1, 0, 2)): [('C', (0, 4, 1))],\n",
       " ('X', (2, 2, 1)): [('C', (0, 4, 1))],\n",
       " ('Y', (1, 2, 1)): [('C', (0, 1, 2))],\n",
       " ('Y', (1, 0, 0)): [('C', (0, 1, 2))],\n",
       " ('Z', (1, 1, 2)): [('O', (1, 3, 2)), ('C', (0, 4, 1)), ('V', (1, 1, 2))],\n",
       " ('Z', (2, 3, 1)): [('O', (1, 3, 1)), ('C', (0, 1, 2)), ('V', (1, 1, 2))]}"
      ]
     },
     "execution_count": 29,
     "metadata": {},
     "output_type": "execute_result"
    }
   ],
   "source": [
    "GraphGenerator().make_lib_tree_with_versions()"
   ]
  },
  {
   "cell_type": "code",
   "execution_count": 26,
   "id": "92af5eb4-0e36-4e47-8b7d-8e9487ad0a52",
   "metadata": {},
   "outputs": [
    {
     "data": {
      "text/plain": [
       "PosixPath('/home/sapristi/dev/git_data/deps')"
      ]
     },
     "execution_count": 26,
     "metadata": {},
     "output_type": "execute_result"
    }
   ],
   "source": [
    "dest = Path(\"..\") / \"..\" / \"git_data\" / \"deps\"\n",
    "dest.resolve()"
   ]
  },
  {
   "cell_type": "code",
   "execution_count": 27,
   "id": "ffb0addf-23bd-4897-9e13-f8b0de79b2bf",
   "metadata": {},
   "outputs": [],
   "source": [
    "GraphGenerator().graph_to_disk(dest)"
   ]
  },
  {
   "cell_type": "code",
   "execution_count": 24,
   "id": "1aa51d2a-d8bb-4200-bed5-8a3da47a10ea",
   "metadata": {},
   "outputs": [
    {
     "data": {
      "image/png": "[encoded data removed]",
      "text/plain": [
       "<Figure size 640x480 with 1 Axes>"
      ]
     },
     "metadata": {},
     "output_type": "display_data"
    }
   ],
   "source": [
    "import math\n",
    "# import the required libraries  \n",
    "import random  \n",
    "import matplotlib.pyplot as plt  \n",
    "    \n",
    "# store the random numbers in a list  \n",
    "nums = []  \n",
    "alpha = 9\n",
    "beta = 0.5\n",
    "    \n",
    "for i in range(10000):  \n",
    "    temp = math.floor(random.gammavariate(3, 0.6))\n",
    "    nums.append(temp)  \n",
    "        \n",
    "# plotting a graph  \n",
    "plt.hist(nums, bins = 200)  \n",
    "plt.show() \n"
   ]
  },
  {
   "cell_type": "code",
   "execution_count": null,
   "id": "a497c111-d9c3-4240-820f-1607ca1f36f5",
   "metadata": {},
   "outputs": [],
   "source": []
  }
 ],
 "metadata": {
  "kernelspec": {
   "display_name": "Python 3 (ipykernel)",
   "language": "python",
   "name": "python3"
  },
  "language_info": {
   "codemirror_mode": {
    "name": "ipython",
    "version": 3
   },
   "file_extension": ".py",
   "mimetype": "text/x-python",
   "name": "python",
   "nbconvert_exporter": "python",
   "pygments_lexer": "ipython3",
   "version": "3.12.4"
  }
 },
 "nbformat": 4,
 "nbformat_minor": 5
}
