{
 "cells": [
  {
   "cell_type": "markdown",
   "id": "892167b5-9c3a-4759-a059-1a51b8a479c5",
   "metadata": {},
   "source": [
    "# Géométrie\n",
    "\n",
    "Écrire des fonctions qui permettent d'afficher les formes géométriques suivantes:\n",
    "\n",
    "<table>\n",
    "    <tr>\n",
    "       <td>rectangle</td> <td>triangle</td> <td>autre triangle</td> <td>diamant</td> <td> rectangle creux</td><td> rayures </td> <td>croix</td>\n",
    "    </tr>\n",
    "    <tr>\n",
    "<td>\n",
    "    \n",
    "  ```\n",
    "  *****\n",
    "  *****\n",
    "  *****\n",
    "  ```\n",
    "    \n",
    "</td><td>\n",
    "\n",
    "  ```\n",
    "  *\n",
    "  **\n",
    "  ***\n",
    "  ****\n",
    "  ```\n",
    "\n",
    "</td><td>\n",
    "\n",
    "  ```\n",
    "     *\n",
    "    **\n",
    "   ***\n",
    "  ****\n",
    "  ```\n",
    "    \n",
    "</td><td>\n",
    "\n",
    "  ```\n",
    "     *\n",
    "    ***\n",
    "   *****\n",
    "  *******\n",
    "   *****\n",
    "    ***\n",
    "     *\n",
    "  ```\n",
    "    \n",
    "</td><td>\n",
    "\n",
    "```\n",
    "***********\n",
    "*         *\n",
    "*         *\n",
    "***********\n",
    "```    \n",
    "\n",
    "</td>\n",
    "\n",
    "</td><td>\n",
    "\n",
    "```\n",
    "*   *   *   *   *\n",
    "   *   *   *   *\n",
    "  *   *   *   *\n",
    " *   *   *   *   *\n",
    "```    \n",
    "\n",
    "</td><td>\n",
    "\n",
    "```\n",
    "*   *\n",
    " * * \n",
    "  *\n",
    " * *\n",
    "*   *\n",
    "```    \n",
    "    \n",
    "</td>\n",
    "</tr>\n",
    "</table\n",
    "\n",
    "**Note:** La taille des figures sera passée en paramètres des fonctions."
   ]
  },
  {
   "cell_type": "markdown",
   "id": "5c867049-ab86-437a-bbf4-ee61fa7f879d",
   "metadata": {},
   "source": [
    "## Exemple"
   ]
  },
  {
   "cell_type": "code",
   "execution_count": 1,
   "id": "bdffad2d-1866-4a0e-b0d8-0e4529361855",
   "metadata": {},
   "outputs": [
    {
     "name": "stdout",
     "output_type": "stream",
     "text": [
      "*****\n",
      "**********\n"
     ]
    }
   ],
   "source": [
    "def affiche_ligne(n: int):\n",
    "    print(\"*\" * n)\n",
    "\n",
    "\n",
    "affiche_ligne(5)\n",
    "affiche_ligne(10)"
   ]
  },
  {
   "cell_type": "markdown",
   "id": "ae1c7097-9136-460a-8417-c25f506def38",
   "metadata": {},
   "source": [
    "Points séparés:"
   ]
  },
  {
   "cell_type": "code",
   "execution_count": 2,
   "id": "4ae65448-89e5-4afc-b85b-9a90eeedb7ba",
   "metadata": {},
   "outputs": [
    {
     "name": "stdout",
     "output_type": "stream",
     "text": [
      "*     *     *\n"
     ]
    }
   ],
   "source": [
    "print(\"*\" + \" \" * 5 + \"*\" + \" \" * 5 + \"*\")"
   ]
  },
  {
   "cell_type": "markdown",
   "id": "57ce6acc-1a0e-4530-81e9-47f8944e8549",
   "metadata": {},
   "source": [
    "## Triangle\n"
   ]
  },
  {
   "cell_type": "code",
   "execution_count": 10,
   "id": "0ad13bbf-a448-4155-980b-1ddbf06e85b2",
   "metadata": {},
   "outputs": [
    {
     "name": "stdout",
     "output_type": "stream",
     "text": [
      "        \n",
      "       *\n",
      "      **\n",
      "     ***\n",
      "    ****\n",
      "   *****\n",
      "  ******\n",
      " *******\n"
     ]
    }
   ],
   "source": [
    "def affiche_triangle(n: int):\n",
    "    for i in range(n):\n",
    "        print( (\" \" * (n - i ) + (\"*\" * i )))\n",
    "\n",
    "affiche_triangle(8)"
   ]
  },
  {
   "cell_type": "code",
   "execution_count": null,
   "id": "f025dcd5-4c5b-4660-8198-adcb19ecfe56",
   "metadata": {},
   "outputs": [],
   "source": []
  }
 ],
 "metadata": {
  "kernelspec": {
   "display_name": "Python 3 (ipykernel)",
   "language": "python",
   "name": "python3"
  },
  "language_info": {
   "codemirror_mode": {
    "name": "ipython",
    "version": 3
   },
   "file_extension": ".py",
   "mimetype": "text/x-python",
   "name": "python",
   "nbconvert_exporter": "python",
   "pygments_lexer": "ipython3",
   "version": "3.12.4"
  }
 },
 "nbformat": 4,
 "nbformat_minor": 5
}
